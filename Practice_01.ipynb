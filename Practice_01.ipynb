{
  "cells": [
    {
      "cell_type": "markdown",
      "id": "c3ace8fa-6571-4f5c-9f7f-31c0687ca433",
      "metadata": {
        "id": "c3ace8fa-6571-4f5c-9f7f-31c0687ca433"
      },
      "source": [
        "# Практика 1. Вариант 3. Иван Конюшенко"
      ]
    },
    {
      "cell_type": "markdown",
      "id": "23bb2713-837b-4406-9d74-485dc5c45f6d",
      "metadata": {
        "id": "23bb2713-837b-4406-9d74-485dc5c45f6d"
      },
      "source": [
        "## №1. Метод Холецкого"
      ]
    },
    {
      "cell_type": "markdown",
      "id": "9239527b-14e5-4a32-8f5a-3ce14d758963",
      "metadata": {
        "id": "9239527b-14e5-4a32-8f5a-3ce14d758963"
      },
      "source": [
        "### Разложение Холецкого"
      ]
    },
    {
      "cell_type": "code",
      "execution_count": 2,
      "id": "800d022c-adbf-4726-af47-22068470a81e",
      "metadata": {
        "id": "800d022c-adbf-4726-af47-22068470a81e"
      },
      "outputs": [],
      "source": [
        "import numpy as np\n",
        "import matplotlib.pyplot as plt\n",
        "from scipy.stats import ortho_group\n",
        "\n",
        "from numpy.typing import NDArray, ArrayLike"
      ]
    },
    {
      "cell_type": "code",
      "execution_count": 3,
      "id": "da401e24-0c4c-4cc9-bc88-2047ec0ae1c8",
      "metadata": {
        "id": "da401e24-0c4c-4cc9-bc88-2047ec0ae1c8"
      },
      "outputs": [],
      "source": [
        "def cholesky(A : NDArray, using_float16 : bool = False) -> NDArray:\n",
        "    '''\n",
        "    Takes positive-definite matrix A and returns its Cholesky decomposition matrix C, such that A = CC^T.\n",
        "    '''\n",
        "    CMP_CONST = 1e-8\n",
        "    if using_float16:\n",
        "        CMP_CONST = 1e-2\n",
        "\n",
        "    if (abs(A - A.T) > CMP_CONST).any():\n",
        "        raise ValueError('Given input matrix A is not symmetric.')\n",
        "    with np.errstate(invalid='raise', under='ignore'):\n",
        "        try:\n",
        "            n = A.shape[0]\n",
        "            if using_float16:\n",
        "                C = np.zeros(shape=(n, n), dtype=np.float16)\n",
        "            else:\n",
        "                C = np.zeros(shape=(n, n))\n",
        "            for j in range(0, n):\n",
        "                C[j, j] = np.sqrt(A[j, j] - np.sum(C[j, :j] ** 2))\n",
        "\n",
        "                for i in range(j + 1, n):\n",
        "                    C[i, j] = A[i, j] - np.sum(C[i, :j] * C[j, :j])\n",
        "                    C[i, j] /= C[j, j]\n",
        "        except:\n",
        "            raise ValueError('Given input matrix A is not positive-definite.')\n",
        "\n",
        "    if (abs(A - C @ C.T) > CMP_CONST).any():\n",
        "        raise ValueError('Given input matrix A is not positive-definite.')\n",
        "    return C"
      ]
    },
    {
      "cell_type": "markdown",
      "id": "a3b72c91-4303-4667-bb18-1c1b63926f4b",
      "metadata": {
        "id": "a3b72c91-4303-4667-bb18-1c1b63926f4b"
      },
      "source": [
        "#### Тестирование"
      ]
    },
    {
      "cell_type": "code",
      "execution_count": 4,
      "id": "7569ed84-bdba-4221-9248-1e96ff4ef3ff",
      "metadata": {
        "id": "7569ed84-bdba-4221-9248-1e96ff4ef3ff"
      },
      "outputs": [],
      "source": [
        "np.random.seed(42)"
      ]
    },
    {
      "cell_type": "markdown",
      "id": "269f17ef-d4e8-4c00-ac34-4e153cf587f2",
      "metadata": {
        "id": "269f17ef-d4e8-4c00-ac34-4e153cf587f2"
      },
      "source": [
        "##### Все работает"
      ]
    },
    {
      "cell_type": "code",
      "execution_count": 10,
      "id": "1aec5830-5e8a-4bf0-9d13-39596286f12f",
      "metadata": {
        "id": "1aec5830-5e8a-4bf0-9d13-39596286f12f"
      },
      "outputs": [],
      "source": [
        "def make_good_matrix(size=10):\n",
        "    eigenvals = np.random.randint(1, 5, size=size)\n",
        "    K_true = eigenvals.max() / eigenvals.min()\n",
        "\n",
        "    U = ortho_group.rvs(size)\n",
        "    A = np.diag(eigenvals)\n",
        "    return U.T @ A @ U, K_true"
      ]
    },
    {
      "cell_type": "code",
      "execution_count": null,
      "id": "85813c6e-6e77-488d-83f5-701a0e162565",
      "metadata": {
        "id": "85813c6e-6e77-488d-83f5-701a0e162565"
      },
      "outputs": [],
      "source": [
        "A, _ = make_good_matrix(4)\n",
        "A = np.float16(A)"
      ]
    },
    {
      "cell_type": "code",
      "execution_count": null,
      "id": "2de4dde5-8416-4c64-bbe2-60267d5eb9f8",
      "metadata": {
        "id": "2de4dde5-8416-4c64-bbe2-60267d5eb9f8",
        "outputId": "689dcd2e-7ee5-4493-faa9-503cc9103ec9"
      },
      "outputs": [
        {
          "data": {
            "text/plain": [
              "array([[ 1.467 ,  0.    ,  0.    ,  0.    ],\n",
              "       [ 0.1588,  1.504 ,  0.    ,  0.    ],\n",
              "       [-0.359 , -0.2347,  1.205 ,  0.    ],\n",
              "       [ 0.307 ,  0.2152,  0.2947,  1.305 ]], dtype=float16)"
            ]
          },
          "execution_count": 158,
          "metadata": {},
          "output_type": "execute_result"
        }
      ],
      "source": [
        "cholesky(A, True)"
      ]
    },
    {
      "cell_type": "markdown",
      "id": "412b77c9-2c0b-40c8-8a53-bff859035144",
      "metadata": {
        "id": "412b77c9-2c0b-40c8-8a53-bff859035144"
      },
      "source": [
        "##### Все ломается"
      ]
    },
    {
      "cell_type": "code",
      "execution_count": null,
      "id": "e8c2e6d5-89e0-4175-a224-ce6bd1aac1a2",
      "metadata": {
        "id": "e8c2e6d5-89e0-4175-a224-ce6bd1aac1a2"
      },
      "outputs": [],
      "source": [
        "def make_bad_matrix(size=10):\n",
        "    eigenvals = np.random.randint(-1000, -1, size=size)\n",
        "    K_true = eigenvals.max() / eigenvals.min()\n",
        "\n",
        "    U = ortho_group.rvs(size)\n",
        "    A = np.diag(eigenvals)\n",
        "    return U.T @ A @ U, K_true"
      ]
    },
    {
      "cell_type": "code",
      "execution_count": null,
      "id": "e4308a86-b6a3-4fa9-bda2-2a356a15023c",
      "metadata": {
        "id": "e4308a86-b6a3-4fa9-bda2-2a356a15023c",
        "outputId": "dfa37024-b162-4e66-fe32-664f77570130"
      },
      "outputs": [
        {
          "ename": "ValueError",
          "evalue": "Given input matrix A is not positive-definite.",
          "output_type": "error",
          "traceback": [
            "\u001b[0;31m---------------------------------------------------------------------------\u001b[0m",
            "\u001b[0;31mFloatingPointError\u001b[0m                        Traceback (most recent call last)",
            "Cell \u001b[0;32mIn[156], line 19\u001b[0m, in \u001b[0;36mcholesky\u001b[0;34m(A, using_float16)\u001b[0m\n\u001b[1;32m     18\u001b[0m \u001b[38;5;28;01mfor\u001b[39;00m j \u001b[38;5;129;01min\u001b[39;00m \u001b[38;5;28mrange\u001b[39m(\u001b[38;5;241m0\u001b[39m, n):\n\u001b[0;32m---> 19\u001b[0m     C[j, j] \u001b[38;5;241m=\u001b[39m np\u001b[38;5;241m.\u001b[39msqrt(A[j, j] \u001b[38;5;241m-\u001b[39m np\u001b[38;5;241m.\u001b[39msum(C[j, :j] \u001b[38;5;241m*\u001b[39m\u001b[38;5;241m*\u001b[39m \u001b[38;5;241m2\u001b[39m))\n\u001b[1;32m     21\u001b[0m     \u001b[38;5;28;01mfor\u001b[39;00m i \u001b[38;5;129;01min\u001b[39;00m \u001b[38;5;28mrange\u001b[39m(j \u001b[38;5;241m+\u001b[39m \u001b[38;5;241m1\u001b[39m, n):\n",
            "\u001b[0;31mFloatingPointError\u001b[0m: invalid value encountered in sqrt",
            "\nDuring handling of the above exception, another exception occurred:\n",
            "\u001b[0;31mValueError\u001b[0m                                Traceback (most recent call last)",
            "Cell \u001b[0;32mIn[160], line 2\u001b[0m\n\u001b[1;32m      1\u001b[0m B, _ \u001b[38;5;241m=\u001b[39m make_bad_matrix(\u001b[38;5;241m4\u001b[39m)\n\u001b[0;32m----> 2\u001b[0m cholesky(B)\n",
            "Cell \u001b[0;32mIn[156], line 25\u001b[0m, in \u001b[0;36mcholesky\u001b[0;34m(A, using_float16)\u001b[0m\n\u001b[1;32m     23\u001b[0m                 C[i, j] \u001b[38;5;241m/\u001b[39m\u001b[38;5;241m=\u001b[39m C[j, j]\n\u001b[1;32m     24\u001b[0m     \u001b[38;5;28;01mexcept\u001b[39;00m:\n\u001b[0;32m---> 25\u001b[0m         \u001b[38;5;28;01mraise\u001b[39;00m \u001b[38;5;167;01mValueError\u001b[39;00m(\u001b[38;5;124m'\u001b[39m\u001b[38;5;124mGiven input matrix A is not positive-definite.\u001b[39m\u001b[38;5;124m'\u001b[39m)\n\u001b[1;32m     27\u001b[0m \u001b[38;5;28;01mif\u001b[39;00m (\u001b[38;5;28mabs\u001b[39m(A \u001b[38;5;241m-\u001b[39m C \u001b[38;5;241m@\u001b[39m C\u001b[38;5;241m.\u001b[39mT) \u001b[38;5;241m>\u001b[39m CMP_CONST)\u001b[38;5;241m.\u001b[39many():\n\u001b[1;32m     28\u001b[0m     \u001b[38;5;28;01mraise\u001b[39;00m \u001b[38;5;167;01mValueError\u001b[39;00m(\u001b[38;5;124m'\u001b[39m\u001b[38;5;124mGiven input matrix A is not positive-definite.\u001b[39m\u001b[38;5;124m'\u001b[39m)\n",
            "\u001b[0;31mValueError\u001b[0m: Given input matrix A is not positive-definite."
          ]
        }
      ],
      "source": [
        "B, _ = make_bad_matrix(4)\n",
        "cholesky(B)"
      ]
    },
    {
      "cell_type": "markdown",
      "id": "b90440e5-5e49-4c56-8374-c61db8076300",
      "metadata": {
        "id": "b90440e5-5e49-4c56-8374-c61db8076300"
      },
      "source": [
        "### Построение графиков"
      ]
    },
    {
      "cell_type": "code",
      "execution_count": null,
      "id": "18b252e2-f782-48b7-b14a-9696773aba84",
      "metadata": {
        "id": "18b252e2-f782-48b7-b14a-9696773aba84"
      },
      "outputs": [],
      "source": [
        "np.random.seed(42)\n",
        "sizes = [10, 100, 500, 1000, 2000]\n",
        "norms = []\n",
        "\n",
        "for size in sizes:\n",
        "    with np.errstate(under='ignore'):\n",
        "        A, _ = make_good_matrix(size)\n",
        "        A = np.float16(A)\n",
        "        C = cholesky(A, True)\n",
        "\n",
        "        norm = np.sum((A - C @ C.T) ** 2) ** 0.5  # Frobenius norm\n",
        "    norms.append(norm)"
      ]
    },
    {
      "cell_type": "code",
      "execution_count": null,
      "id": "332f7f6b-57ad-44d3-8e2d-5539e98a9d7c",
      "metadata": {
        "id": "332f7f6b-57ad-44d3-8e2d-5539e98a9d7c",
        "outputId": "8d60d85c-1f7e-4f6b-aa8a-9695a0a43b9a"
      },
      "outputs": [
        {
          "data": {
            "image/png": "[encoded data removed]",
            "text/plain": [
              "<Figure size 600x600 with 1 Axes>"
            ]
          },
          "metadata": {},
          "output_type": "display_data"
        }
      ],
      "source": [
        "fig = plt.figure(figsize=(6, 6), dpi=100)\n",
        "plt.plot(sizes, norms, figure=fig, color='orange', linestyle='--',\n",
        "         marker='o', markerfacecolor='k');\n",
        "fig.suptitle(\"Анализ зависимости нормы невязки от размера матрицы.\")\n",
        "plt.xlabel(\"Размер матрицы\")\n",
        "plt.ylabel(\"Норма Фробениуса невязки\");"
      ]
    },
    {
      "cell_type": "markdown",
      "id": "01aaefba-d9c7-475c-8f76-a10fa2d41c92",
      "metadata": {
        "id": "01aaefba-d9c7-475c-8f76-a10fa2d41c92"
      },
      "source": [
        "__Вывод__:\n",
        "1. Метод Холецкого очень стабилен. Даже при вычислении в np.float16 с кратным ростом размера матриц мы не наблюдаем кратного роста ошибки."
      ]
    },
    {
      "cell_type": "markdown",
      "source": [
        "Плюсы метода Холецкого по сравнению с LU:\n",
        "1. Мы не делим на нуль или околонулевые числа при вычислении результата. Это повышает числовую стабильность решения.\n",
        "2. В методе роста элементов нет!"
      ],
      "metadata": {
        "id": "4vkSY0INdSb4"
      },
      "id": "4vkSY0INdSb4"
    },
    {
      "cell_type": "markdown",
      "id": "74ccf4ed-8e82-4993-8747-d8225f080a8c",
      "metadata": {
        "id": "74ccf4ed-8e82-4993-8747-d8225f080a8c"
      },
      "source": [
        "## №2. Решение системы"
      ]
    },
    {
      "cell_type": "markdown",
      "source": [
        "Чтобы минимизировать $\\|Ax - b\\|_2$, нужно перейти к нормальному уравнению $A^TAx = A^Tb$, т.к. $A^TA$ - симм. положит. опред. матрица, то можем решть эту систему методом Холецкого. Ниже представлен код для такого решения:"
      ],
      "metadata": {
        "id": "gSjMazUHazNk"
      },
      "id": "gSjMazUHazNk"
    },
    {
      "cell_type": "markdown",
      "id": "50f4fd83-3cbd-4cc6-8b29-f136c01d1400",
      "metadata": {
        "id": "50f4fd83-3cbd-4cc6-8b29-f136c01d1400"
      },
      "source": [
        "### Решение системы с использованием разложения Холецкого"
      ]
    },
    {
      "cell_type": "code",
      "execution_count": 5,
      "id": "64be5ceb-95ca-4143-be0b-d2af13d3abec",
      "metadata": {
        "id": "64be5ceb-95ca-4143-be0b-d2af13d3abec"
      },
      "outputs": [],
      "source": [
        "def solve_down_traingle(A : NDArray, b : NDArray, using_float16 : bool = False) -> NDArray:\n",
        "    n = b.shape[0]\n",
        "    if using_float16:\n",
        "        y = np.zeros(n, dtype=np.float16)\n",
        "    else:\n",
        "        y = np.zeros(n)\n",
        "\n",
        "    for k in range(n):\n",
        "        y[k] = (b[k] - y[:k] @ A[k, :k]) / A[k, k]\n",
        "    return y"
      ]
    },
    {
      "cell_type": "code",
      "execution_count": 6,
      "id": "2b0a7d5a-3a4c-4549-b8bc-a4ccc9354582",
      "metadata": {
        "id": "2b0a7d5a-3a4c-4549-b8bc-a4ccc9354582"
      },
      "outputs": [],
      "source": [
        "def solve_up_traingle(A : NDArray, b : NDArray, using_float16 : bool = False) -> NDArray:\n",
        "    n = b.shape[0]\n",
        "    if using_float16:\n",
        "        y = np.zeros(n, dtype=np.float16)\n",
        "    else:\n",
        "        y = np.zeros(n)\n",
        "\n",
        "    for k in range(n-1, -1, -1):\n",
        "        y[k] = (b[k] - y[k+1:] @ A[k, k+1:]) / A[k, k]\n",
        "    return y"
      ]
    },
    {
      "cell_type": "code",
      "execution_count": 7,
      "id": "9ed9fbb0-c157-4283-8f4e-6872749f7ba0",
      "metadata": {
        "id": "9ed9fbb0-c157-4283-8f4e-6872749f7ba0"
      },
      "outputs": [],
      "source": [
        "def cholesky_solver(A : NDArray, b : NDArray, using_float16 : bool = False) -> NDArray:\n",
        "    C = cholesky(A, using_float16)\n",
        "    y = solve_down_traingle(C, b, using_float16)\n",
        "    x = solve_up_traingle(C.T, y, using_float16)\n",
        "    return x"
      ]
    },
    {
      "cell_type": "code",
      "execution_count": 44,
      "id": "356b4440-5b1b-495c-8457-6bb88ead53fa",
      "metadata": {
        "colab": {
          "base_uri": "https://localhost:8080/"
        },
        "id": "356b4440-5b1b-495c-8457-6bb88ead53fa",
        "outputId": "c9c26439-9097-43b9-91f8-ed8954e7f93e"
      },
      "outputs": [
        {
          "output_type": "stream",
          "name": "stdout",
          "text": [
            "Реальное значение         : [ 0  6 -5 -6]\n",
            "Результат метода Холецкого: [ 7.381e-04  6.008e+00 -5.004e+00 -5.996e+00]\n",
            "Норма разности            : 0.009596748971550694\n"
          ]
        }
      ],
      "source": [
        "A, _ = make_good_matrix(4)\n",
        "A = np.float16(A)\n",
        "\n",
        "x = np.random.randint(-10, 10, size=4)\n",
        "b = A @ x\n",
        "sol = cholesky_solver(A, b, True)\n",
        "\n",
        "print(\"Реальное значение         :\", x)\n",
        "print(\"Результат метода Холецкого:\", sol)\n",
        "print(\"Норма разности            :\", np.linalg.norm(x - sol, ord=2))"
      ]
    },
    {
      "cell_type": "markdown",
      "id": "d8ea7c2d-ce22-4d01-90d8-a7d02c32302d",
      "metadata": {
        "id": "d8ea7c2d-ce22-4d01-90d8-a7d02c32302d"
      },
      "source": [
        "### Итеративное решение"
      ]
    },
    {
      "cell_type": "code",
      "source": [
        "import numpy as np\n",
        "\n",
        "def iterative_minimize(A, b, x_init, lr=np.float16(0.01), num_epochs=100):\n",
        "    x = x_init\n",
        "    for epoch in range(num_epochs):\n",
        "        residual = A @ x - b\n",
        "        gradient = A.T.dot(residual)\n",
        "        x = x - lr * gradient\n",
        "    return x\n",
        "\n",
        "# Пример использования\n",
        "x_init = np.zeros(4)\n",
        "\n",
        "x_minimized = iterative_minimize(A, b, x_init)\n",
        "print(\"Минимизированное решение:\", x_minimized)"
      ],
      "metadata": {
        "colab": {
          "base_uri": "https://localhost:8080/"
        },
        "id": "cmsHN2y0obLi",
        "outputId": "246fbfca-311c-46f1-b1c7-33e9925c8eb4"
      },
      "id": "cmsHN2y0obLi",
      "execution_count": 49,
      "outputs": [
        {
          "output_type": "stream",
          "name": "stdout",
          "text": [
            "Минимизированное решение: [-0.05030897  3.98491842 -4.68765894 -6.28329017]\n"
          ]
        }
      ]
    },
    {
      "cell_type": "code",
      "source": [
        "norms_chol"
      ],
      "metadata": {
        "colab": {
          "base_uri": "https://localhost:8080/"
        },
        "id": "A5x5HSKswXz9",
        "outputId": "25cb906e-f11a-4209-d1b8-1290c67f6efb"
      },
      "id": "A5x5HSKswXz9",
      "execution_count": 60,
      "outputs": [
        {
          "output_type": "execute_result",
          "data": {
            "text/plain": [
              "[0.00263, 0.00895, 0.02003, 0.02954]"
            ]
          },
          "metadata": {},
          "execution_count": 60
        }
      ]
    },
    {
      "cell_type": "code",
      "source": [
        "np.random.seed(42)\n",
        "sizes = [10, 100, 500, 1000]\n",
        "norms_chol = []\n",
        "norms_iterative = []\n",
        "\n",
        "for size in sizes:\n",
        "    with np.errstate(under='ignore'):\n",
        "        A, _ = make_good_matrix(size)\n",
        "        A = np.float16(A)\n",
        "        x_init = np.zeros(size, dtype=np.float16)\n",
        "        x = np.ones(size, dtype=np.float16)\n",
        "        b = A @ x\n",
        "\n",
        "        sol_chol = cholesky_solver(A, b, True)\n",
        "        sol_iterative = iterative_minimize(A, b, x_init)\n",
        "\n",
        "        norms_chol.append(np.linalg.norm(sol_chol-x))\n",
        "        norms_iterative.append(np.linalg.norm(sol_iterative-x))"
      ],
      "metadata": {
        "id": "50JbCTgEpY7U"
      },
      "id": "50JbCTgEpY7U",
      "execution_count": 58,
      "outputs": []
    },
    {
      "cell_type": "code",
      "source": [
        "fig = plt.figure(figsize=(6, 6), dpi=100)\n",
        "plt.plot(sizes, np.array(norms_chol) * 100, figure=fig, color='orange', linestyle='--',\n",
        "         marker='o', markerfacecolor='k', label='Холецкий');\n",
        "plt.plot(sizes, np.array(norms_iterative) * 100, figure=fig, color='green', linestyle='--',\n",
        "         marker='o', markerfacecolor='k', label='Итеративный');\n",
        "plt.legend()\n",
        "fig.suptitle(r\"Анализ величины ошибки метода Холецкого относительно итеративного метода.\")\n",
        "plt.xlabel(\"Размер матрицы\")\n",
        "plt.ylabel(\"Относительная величина ошибки\");"
      ],
      "metadata": {
        "colab": {
          "base_uri": "https://localhost:8080/",
          "height": 602
        },
        "id": "1VRnZoQtus7m",
        "outputId": "aa71181c-b932-45f4-e134-e92402bba94f"
      },
      "id": "1VRnZoQtus7m",
      "execution_count": 62,
      "outputs": [
        {
          "output_type": "display_data",
          "data": {
            "text/plain": [
              "<Figure size 600x600 with 1 Axes>"
            ],
            "image/png": "[encoded data removed]"
          },
          "metadata": {}
        }
      ]
    },
    {
      "cell_type": "markdown",
      "source": [
        "Таким образом, получаем, что метод Холецкого гораздо лучше решает данную задачу, чем итеративный. Хотя, конечно, он требует больше ресурсов."
      ],
      "metadata": {
        "id": "Y_DW3RPBw4Fh"
      },
      "id": "Y_DW3RPBw4Fh"
    }
  ],
  "metadata": {
    "kernelspec": {
      "display_name": "Python 3 (ipykernel)",
      "language": "python",
      "name": "python3"
    },
    "language_info": {
      "codemirror_mode": {
        "name": "ipython",
        "version": 3
      },
      "file_extension": ".py",
      "mimetype": "text/x-python",
      "name": "python",
      "nbconvert_exporter": "python",
      "pygments_lexer": "ipython3",
      "version": "3.11.5"
    },
    "colab": {
      "provenance": [],
      "collapsed_sections": [
        "412b77c9-2c0b-40c8-8a53-bff859035144"
      ]
    }
  },
  "nbformat": 4,
  "nbformat_minor": 5
}